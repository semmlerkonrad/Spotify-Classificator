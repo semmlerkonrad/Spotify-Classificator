{
 "cells": [
  {
   "cell_type": "markdown",
   "metadata": {},
   "source": [
    "# Spotify Classificator\n",
    "\n",
    "Now that we have our data, we can start testing classifiers. First, let's look at the attributes and representation of the sample."
   ]
  },
  {
   "cell_type": "code",
   "execution_count": 1,
   "metadata": {},
   "outputs": [
    {
     "data": {
      "text/html": [
       "<div>\n",
       "<style scoped>\n",
       "    .dataframe tbody tr th:only-of-type {\n",
       "        vertical-align: middle;\n",
       "    }\n",
       "\n",
       "    .dataframe tbody tr th {\n",
       "        vertical-align: top;\n",
       "    }\n",
       "\n",
       "    .dataframe thead th {\n",
       "        text-align: right;\n",
       "    }\n",
       "</style>\n",
       "<table border=\"1\" class=\"dataframe\">\n",
       "  <thead>\n",
       "    <tr style=\"text-align: right;\">\n",
       "      <th></th>\n",
       "      <th>end Of Fade-In</th>\n",
       "      <th>start Of Fade-Out</th>\n",
       "      <th>loudness</th>\n",
       "      <th>tempo</th>\n",
       "      <th>time Signature</th>\n",
       "      <th>mode</th>\n",
       "      <th>key</th>\n",
       "      <th>number Of Sections</th>\n",
       "      <th>attack Average</th>\n",
       "    </tr>\n",
       "  </thead>\n",
       "  <tbody>\n",
       "    <tr>\n",
       "      <th>count</th>\n",
       "      <td>52000.000000</td>\n",
       "      <td>52000.000000</td>\n",
       "      <td>52000.000000</td>\n",
       "      <td>52000.000000</td>\n",
       "      <td>52000.000000</td>\n",
       "      <td>52000.000000</td>\n",
       "      <td>52000.000000</td>\n",
       "      <td>52000.000000</td>\n",
       "      <td>52000.000000</td>\n",
       "    </tr>\n",
       "    <tr>\n",
       "      <th>mean</th>\n",
       "      <td>0.751354</td>\n",
       "      <td>241.199003</td>\n",
       "      <td>-8.920810</td>\n",
       "      <td>123.251494</td>\n",
       "      <td>3.898673</td>\n",
       "      <td>0.679096</td>\n",
       "      <td>5.351231</td>\n",
       "      <td>10.793750</td>\n",
       "      <td>237.985576</td>\n",
       "    </tr>\n",
       "    <tr>\n",
       "      <th>std</th>\n",
       "      <td>1.790925</td>\n",
       "      <td>97.926795</td>\n",
       "      <td>5.055329</td>\n",
       "      <td>30.395127</td>\n",
       "      <td>0.416886</td>\n",
       "      <td>0.467322</td>\n",
       "      <td>3.499322</td>\n",
       "      <td>4.065752</td>\n",
       "      <td>115.225339</td>\n",
       "    </tr>\n",
       "    <tr>\n",
       "      <th>min</th>\n",
       "      <td>0.000000</td>\n",
       "      <td>3.056000</td>\n",
       "      <td>-44.809000</td>\n",
       "      <td>0.000000</td>\n",
       "      <td>0.000000</td>\n",
       "      <td>-1.000000</td>\n",
       "      <td>0.000000</td>\n",
       "      <td>0.000000</td>\n",
       "      <td>-539.876000</td>\n",
       "    </tr>\n",
       "    <tr>\n",
       "      <th>25%</th>\n",
       "      <td>0.118000</td>\n",
       "      <td>186.143000</td>\n",
       "      <td>-10.985000</td>\n",
       "      <td>99.958000</td>\n",
       "      <td>4.000000</td>\n",
       "      <td>0.000000</td>\n",
       "      <td>2.000000</td>\n",
       "      <td>8.000000</td>\n",
       "      <td>164.844000</td>\n",
       "    </tr>\n",
       "    <tr>\n",
       "      <th>50%</th>\n",
       "      <td>0.266000</td>\n",
       "      <td>225.588000</td>\n",
       "      <td>-7.869000</td>\n",
       "      <td>121.940000</td>\n",
       "      <td>4.000000</td>\n",
       "      <td>1.000000</td>\n",
       "      <td>5.000000</td>\n",
       "      <td>10.000000</td>\n",
       "      <td>215.786500</td>\n",
       "    </tr>\n",
       "    <tr>\n",
       "      <th>75%</th>\n",
       "      <td>0.511000</td>\n",
       "      <td>269.398000</td>\n",
       "      <td>-5.473000</td>\n",
       "      <td>143.014000</td>\n",
       "      <td>4.000000</td>\n",
       "      <td>1.000000</td>\n",
       "      <td>9.000000</td>\n",
       "      <td>12.000000</td>\n",
       "      <td>287.183000</td>\n",
       "    </tr>\n",
       "    <tr>\n",
       "      <th>max</th>\n",
       "      <td>56.279000</td>\n",
       "      <td>3593.004000</td>\n",
       "      <td>0.698000</td>\n",
       "      <td>217.232000</td>\n",
       "      <td>5.000000</td>\n",
       "      <td>1.000000</td>\n",
       "      <td>11.000000</td>\n",
       "      <td>154.000000</td>\n",
       "      <td>2434.718000</td>\n",
       "    </tr>\n",
       "  </tbody>\n",
       "</table>\n",
       "</div>"
      ],
      "text/plain": [
       "       end Of Fade-In  start Of Fade-Out      loudness         tempo  \\\n",
       "count    52000.000000       52000.000000  52000.000000  52000.000000   \n",
       "mean         0.751354         241.199003     -8.920810    123.251494   \n",
       "std          1.790925          97.926795      5.055329     30.395127   \n",
       "min          0.000000           3.056000    -44.809000      0.000000   \n",
       "25%          0.118000         186.143000    -10.985000     99.958000   \n",
       "50%          0.266000         225.588000     -7.869000    121.940000   \n",
       "75%          0.511000         269.398000     -5.473000    143.014000   \n",
       "max         56.279000        3593.004000      0.698000    217.232000   \n",
       "\n",
       "       time Signature          mode           key  number Of Sections  \\\n",
       "count    52000.000000  52000.000000  52000.000000        52000.000000   \n",
       "mean         3.898673      0.679096      5.351231           10.793750   \n",
       "std          0.416886      0.467322      3.499322            4.065752   \n",
       "min          0.000000     -1.000000      0.000000            0.000000   \n",
       "25%          4.000000      0.000000      2.000000            8.000000   \n",
       "50%          4.000000      1.000000      5.000000           10.000000   \n",
       "75%          4.000000      1.000000      9.000000           12.000000   \n",
       "max          5.000000      1.000000     11.000000          154.000000   \n",
       "\n",
       "       attack Average  \n",
       "count    52000.000000  \n",
       "mean       237.985576  \n",
       "std        115.225339  \n",
       "min       -539.876000  \n",
       "25%        164.844000  \n",
       "50%        215.786500  \n",
       "75%        287.183000  \n",
       "max       2434.718000  "
      ]
     },
     "execution_count": 1,
     "metadata": {},
     "output_type": "execute_result"
    }
   ],
   "source": [
    "import pandas as pd\n",
    "import matplotlib.pyplot as plt\n",
    "import numpy as np\n",
    "\n",
    "spotify_data = pd.read_csv('SpotifyData.csv')\n",
    "spotify_data = spotify_data.dropna(axis=0)\n",
    "\n",
    "spotify_data.describe()"
   ]
  },
  {
   "cell_type": "markdown",
   "metadata": {},
   "source": [
    "#### Attributes breakdown\n",
    "We have in total **9 attributes** (excluding 'Genre' label) and **51988 records**. It's a small sample when compared to the size of the population, but I had to simplify the problem due to computational limits. I'm also going to classify only one genre right now.\n",
    "\n",
    "The attributes are:\n",
    "* End of Fade-in - The second in which the Fade-In stops.\n",
    "* Start of Fade-Out - The second in which the Fade-Out starts.\n",
    "* Loudness - The average track loudness in dB.\n",
    "* Tempo - The tempo of the a track in BPM (beats per minute).\n",
    "* Time Signature - Metre ; The number of beats in a bar.\n",
    "* Mode - Specifies whether a track is in major (value 1) or minor scale (value 0).\n",
    "* Key - The most frequent key in a track. Values in this attribute range from 0 to 11 and represent 12 keys in an octave (e.g. 0=C, 1=C#, 2=D etc.)\n",
    "* Number of sections - Specifies how many sections a track consists of. Sections are defined by large variations in rhythm or timbre (e.g. chorus, verse, bridge, guitar solo, etc.).\n",
    "* Attack average - Average attack, calculated from the attack of each segment. A song is subdivided into many segments, with each one containing a roughly consitent sound throughout its duration.\n",
    "\n",
    "\n",
    "##### Let's look now at the distribution of the label."
   ]
  },
  {
   "cell_type": "code",
   "execution_count": 3,
   "metadata": {},
   "outputs": [
    {
     "data": {
      "text/plain": [
       "<matplotlib.axes._subplots.AxesSubplot at 0x10cc13940>"
      ]
     },
     "execution_count": 3,
     "metadata": {},
     "output_type": "execute_result"
    },
    {
     "data": {
      "image/png": "[encoded data removed]",
      "text/plain": [
       "<Figure size 432x288 with 1 Axes>"
      ]
     },
     "metadata": {
      "needs_background": "light"
     },
     "output_type": "display_data"
    }
   ],
   "source": [
    "colors=iter(plt.cm.rainbow(np.linspace(0,1,20)))\n",
    "\n",
    "spotify_data['Genre'].value_counts().plot(kind='bar', title='Genre distribution', color=colors)"
   ]
  },
  {
   "cell_type": "markdown",
   "metadata": {},
   "source": [
    "#### Labels\n",
    "In this case, we have **13 genres**, all with almost the same distribution (around 4000 each). Now let's encode the labels, split the data into train and test sets and scale them. I chose Robust Scaler because the attributes not only have different distributions, but also many outliers and Robust Scaler perfoms better with this kind of data."
   ]
  },
  {
   "cell_type": "code",
   "execution_count": 4,
   "metadata": {},
   "outputs": [],
   "source": [
    "from sklearn.preprocessing import LabelEncoder\n",
    "from sklearn.model_selection import train_test_split, GridSearchCV\n",
    "from sklearn.preprocessing import RobustScaler\n",
    "\n",
    "le = LabelEncoder()\n",
    "spotify_data.loc[:, 'Genre'] = le.fit_transform(spotify_data.loc[:, 'Genre'])\n",
    "\n",
    "X, Y = spotify_data.drop('Genre', axis=1).values, spotify_data.loc[:, 'Genre'].values\n",
    "X_train, X_test, Y_train, Y_test = train_test_split(X, Y, test_size=0.2, random_state=2)\n",
    "\n",
    "scaler = RobustScaler()\n",
    "scaled_X_train = scaler.fit_transform(X_train)\n",
    "scaled_X_test = scaler.fit_transform(X_test)"
   ]
  },
  {
   "cell_type": "markdown",
   "metadata": {},
   "source": [
    "##### Now we can get to comparing classifiers.\n",
    "For this project I chose: K-nearest neighbours, SVM, decision tree, random forest, AdaBoost and Naive Bayes. I didn't choose neural network, because here I wanted to focus on other algorithms used for classifying and understand them better."
   ]
  },
  {
   "cell_type": "code",
   "execution_count": 5,
   "metadata": {},
   "outputs": [],
   "source": [
    "import numpy as np\n",
    "from sklearn.neighbors import KNeighborsClassifier\n",
    "from sklearn.metrics import log_loss, accuracy_score\n",
    "from sklearn.svm import SVC\n",
    "from sklearn.tree import DecisionTreeClassifier\n",
    "from sklearn.ensemble import AdaBoostClassifier, RandomForestClassifier\n",
    "from sklearn.naive_bayes import GaussianNB\n",
    "\n",
    "dtc = DecisionTreeClassifier(random_state=8)\n",
    "rfc = RandomForestClassifier(random_state=8, n_jobs=2)\n",
    "knnc = KNeighborsClassifier(algorithm='auto')\n",
    "svc = SVC(random_state=8, shrinking=True, probability=True)\n",
    "abcr = AdaBoostClassifier(random_state=8, algorithm='SAMME.R')\n",
    "gnb = GaussianNB()\n",
    "classifiers =[dtc, rfc, knnc, svc, abcr, gnb]"
   ]
  },
  {
   "cell_type": "markdown",
   "metadata": {},
   "source": [
    "##### First, let's see how each classifier performs without tuning."
   ]
  },
  {
   "cell_type": "code",
   "execution_count": 8,
   "metadata": {},
   "outputs": [
    {
     "data": {
      "image/png": "[encoded data removed]",
      "text/plain": [
       "<Figure size 720x432 with 1 Axes>"
      ]
     },
     "metadata": {
      "needs_background": "light"
     },
     "output_type": "display_data"
    },
    {
     "data": {
      "text/html": [
       "<div>\n",
       "<style scoped>\n",
       "    .dataframe tbody tr th:only-of-type {\n",
       "        vertical-align: middle;\n",
       "    }\n",
       "\n",
       "    .dataframe tbody tr th {\n",
       "        vertical-align: top;\n",
       "    }\n",
       "\n",
       "    .dataframe thead th {\n",
       "        text-align: right;\n",
       "    }\n",
       "</style>\n",
       "<table border=\"1\" class=\"dataframe\">\n",
       "  <thead>\n",
       "    <tr style=\"text-align: right;\">\n",
       "      <th></th>\n",
       "      <th>Classifier</th>\n",
       "      <th>Accuracy</th>\n",
       "    </tr>\n",
       "  </thead>\n",
       "  <tbody>\n",
       "    <tr>\n",
       "      <th>0</th>\n",
       "      <td>DecisionTreeClassifier</td>\n",
       "      <td>80.837</td>\n",
       "    </tr>\n",
       "    <tr>\n",
       "      <th>0</th>\n",
       "      <td>RandomForestClassifier</td>\n",
       "      <td>94.250</td>\n",
       "    </tr>\n",
       "    <tr>\n",
       "      <th>0</th>\n",
       "      <td>KNeighborsClassifier</td>\n",
       "      <td>87.885</td>\n",
       "    </tr>\n",
       "    <tr>\n",
       "      <th>0</th>\n",
       "      <td>SVC</td>\n",
       "      <td>40.365</td>\n",
       "    </tr>\n",
       "    <tr>\n",
       "      <th>0</th>\n",
       "      <td>AdaBoostClassifier</td>\n",
       "      <td>30.154</td>\n",
       "    </tr>\n",
       "    <tr>\n",
       "      <th>0</th>\n",
       "      <td>GaussianNB</td>\n",
       "      <td>27.326</td>\n",
       "    </tr>\n",
       "  </tbody>\n",
       "</table>\n",
       "</div>"
      ],
      "text/plain": [
       "               Classifier  Accuracy\n",
       "0  DecisionTreeClassifier    80.837\n",
       "0  RandomForestClassifier    94.250\n",
       "0    KNeighborsClassifier    87.885\n",
       "0                     SVC    40.365\n",
       "0      AdaBoostClassifier    30.154\n",
       "0              GaussianNB    27.326"
      ]
     },
     "execution_count": 8,
     "metadata": {},
     "output_type": "execute_result"
    }
   ],
   "source": [
    "cols=['Classifier', 'Accuracy']\n",
    "results_default = pd.DataFrame(columns=cols)\n",
    "for clf in classifiers:\n",
    "    clf.fit(scaled_X_train, Y_train)\n",
    "    name = clf.__class__.__name__\n",
    "\n",
    "    train_predictions = clf.predict(scaled_X_test)\n",
    "    acc = accuracy_score(Y_test, train_predictions)\n",
    "\n",
    "    results_entry = pd.DataFrame([[name, acc*100]], columns=cols)\n",
    "    results_default = results_default.append(results_entry)\n",
    "\n",
    "plt.subplots(figsize=(10,6))\n",
    "color_table = ['g', 'r','b','y','c','m']\n",
    "plt.barh(y = results_default.loc[:, 'Classifier'], width=results_default.loc[:, 'Accuracy'], color = color_table)\n",
    "for i, v in enumerate(results_default.loc[:, 'Accuracy']):\n",
    "    plt.text(v+1, i , str(round(v,1)), color=color_table[i], fontweight='bold')\n",
    "plt.xlabel('Accuracy %')\n",
    "plt.title('Classifier Accuracy')\n",
    "plt.show()\n",
    "\n",
    "results_default"
   ]
  },
  {
   "cell_type": "markdown",
   "metadata": {},
   "source": [
    "##### Now let's create a function to compare parameters and then  we'll specify parameters to lookup in the decision tree.\n",
    "I'll use GridSearchCV for finding the optimal parameter. Of course there's a posibility the true optimum will fall outside our range, but these should give us a pretty well performing classifier. "
   ]
  },
  {
   "cell_type": "code",
   "execution_count": 9,
   "metadata": {},
   "outputs": [],
   "source": [
    "def tune_classifier(parameters_dict, clf, create_plot, rows=2, columns=2):\n",
    "    # index is for keeping tack of the subplot's position on the figure matrix\n",
    "    index = 1\n",
    "    best_parameters = {}\n",
    "    for parameter, p_range in parameters_dict.items():\n",
    "        gscv = GridSearchCV(estimator = clf, param_grid = {parameter: p_range}, scoring='accuracy', cv=5, n_jobs = 2)\n",
    "        gscv.fit(scaled_X_train, Y_train)\n",
    "\n",
    "        best_parameters.update(gscv.best_params_)\n",
    "        means = gscv.cv_results_['mean_test_score']\n",
    "        if create_plot:\n",
    "            plt.subplot(rows, columns, index)\n",
    "            plt.xlabel('parameter value')\n",
    "            plt.ylabel('accuracy')\n",
    "            plt.plot(p_range, means)\n",
    "            plt.title(parameter)\n",
    "            index += 1\n",
    "        else:\n",
    "            print(\"best params: {}\".format(gscv.best_params_))\n",
    "\n",
    "    return best_parameters"
   ]
  },
  {
   "cell_type": "code",
   "execution_count": 10,
   "metadata": {},
   "outputs": [
    {
     "data": {
      "image/png": "[encoded data removed]",
      "text/plain": [
       "<Figure size 432x288 with 4 Axes>"
      ]
     },
     "metadata": {
      "needs_background": "light"
     },
     "output_type": "display_data"
    }
   ],
   "source": [
    "dt_parameters = {\n",
    "    'max_depth' : list(np.arange(2,50,3)) + [None],\n",
    "    \"min_samples_split\": np.arange(2,100,3),\n",
    "    \"min_samples_leaf\": np.arange(1,60,3),\n",
    "    \"max_leaf_nodes\": list(np.arange(100,3000,100)) + [None]\n",
    "    }\n",
    "best_parameters_dt = tune_classifier(dt_parameters, dtc, True)\n",
    "dtc.set_params(**best_parameters_dt)\n",
    "plt.tight_layout()\n",
    "plt.show()\n"
   ]
  },
  {
   "cell_type": "markdown",
   "metadata": {},
   "source": [
    "##### Great, now that we found our optimal parameters for DT, let's see how it'll look on other classifiers."
   ]
  },
  {
   "cell_type": "code",
   "execution_count": 12,
   "metadata": {},
   "outputs": [
    {
     "data": {
      "image/png": "[encoded data removed]",
      "text/plain": [
       "<Figure size 432x288 with 1 Axes>"
      ]
     },
     "metadata": {
      "needs_background": "light"
     },
     "output_type": "display_data"
    }
   ],
   "source": [
    "rf_parameters = {\n",
    "    'n_estimators' : np.arange(10, 200, 10)\n",
    "    }\n",
    "best_parameters_rf = tune_classifier(rf_parameters, rfc, True, 1, 2)\n",
    "best_parameters_rf.update(best_parameters_dt)\n",
    "rfc.set_params(**best_parameters_rf)\n",
    "\n",
    "plt.show()"
   ]
  },
  {
   "cell_type": "code",
   "execution_count": 13,
   "metadata": {},
   "outputs": [
    {
     "name": "stdout",
     "output_type": "stream",
     "text": [
      "best params: {'n_neighbors': 2}\n",
      "best params: {'leaf_size': 70}\n",
      "best params: {'p': 2}\n"
     ]
    },
    {
     "data": {
      "text/plain": [
       "KNeighborsClassifier(algorithm='auto', leaf_size=70, metric='minkowski',\n",
       "           metric_params=None, n_jobs=None, n_neighbors=2, p=2,\n",
       "           weights='uniform')"
      ]
     },
     "execution_count": 13,
     "metadata": {},
     "output_type": "execute_result"
    }
   ],
   "source": [
    "knn_parameters = {\n",
    "    'n_neighbors': np.arange(2,15,2),\n",
    "    'leaf_size' : np.arange(10,150, 20), \n",
    "    'p' : np.arange(1,3,1),\n",
    "    }\n",
    "best_parameters_knn = tune_classifier(knn_parameters, knnc, False)"
   ]
  },
  {
   "cell_type": "code",
   "execution_count": 14,
   "metadata": {},
   "outputs": [
    {
     "name": "stdout",
     "output_type": "stream",
     "text": [
      "best params: {'gamma': 1}\n",
      "best params: {'kernel': 'rbf'}\n",
      "best params: {'C': 1}\n",
      "best params: {'degree': 1}\n"
     ]
    },
    {
     "data": {
      "text/plain": [
       "SVC(C=1000, cache_size=200, class_weight=None, coef0=0.0,\n",
       "  decision_function_shape='ovr', degree=1, gamma=1, kernel='rbf',\n",
       "  max_iter=-1, probability=True, random_state=8, shrinking=True, tol=0.001,\n",
       "  verbose=False)"
      ]
     },
     "execution_count": 14,
     "metadata": {},
     "output_type": "execute_result"
    }
   ],
   "source": [
    "svc_parameters = {\n",
    "    'C' : [1, 100, 1000],\n",
    "    'kernel' : ['rbf', 'sigmoid','linear'],\n",
    "    'degree' : [1,2,3],\n",
    "    'gamma' : [0.01, 0.1 ,1, 'auto']\n",
    "    }\n",
    "best_parameters_svc = tune_classifier(svc_parameters, svc, False)\n",
    "svc.set_params(**best_parameters_svc)"
   ]
  },
  {
   "cell_type": "code",
   "execution_count": 15,
   "metadata": {},
   "outputs": [
    {
     "name": "stdout",
     "output_type": "stream",
     "text": [
      "best params: {'base_estimator': DecisionTreeClassifier(class_weight=None, criterion='gini', max_depth=29,\n",
      "max_features=None, max_leaf_nodes=None,\n",
      "min_impurity_decrease=0.0, min_impurity_split=None,\n",
      "min_samples_leaf=1, min_samples_split=2,\n",
      "min_weight_fraction_leaf=0.0, presort=False, random_state=8,\n",
      "splitter='best')}\n",
      "best params: {'n_estimators': 40}\n",
      "best params: {'learning_rate': 1}\n"
     ]
    },
    {
     "data": {
      "text/plain": [
       "AdaBoostClassifier(algorithm='SAMME.R',\n",
       "          base_estimator=DecisionTreeClassifier(class_weight=None, criterion='gini', max_depth=29,\n",
       "            max_features=None, max_leaf_nodes=None,\n",
       "            min_impurity_decrease=0.0, min_impurity_split=None,\n",
       "            min_samples_leaf=1, min_samples_split=2,\n",
       "            min_weight_fraction_leaf=0.0, presort=False, random_state=8,\n",
       "            splitter='best'),\n",
       "          learning_rate=1, n_estimators=40, random_state=8)"
      ]
     },
     "execution_count": 15,
     "metadata": {},
     "output_type": "execute_result"
    }
   ],
   "source": [
    "abcr_parameters = {\n",
    "    'base_estimator' : [None, dtc, rfc],\n",
    "    'n_estimators' : np.arange(2,100,2),\n",
    "    'learning_rate' : [0.001, 0.01, 0.1, 1, 10]\n",
    "    }\n",
    "best_parameters_abcr = tune_classifier(abcr_parameters, abcr, False)\n",
    "abcr.set_params(**best_parameters_abcr)"
   ]
  },
  {
   "cell_type": "markdown",
   "metadata": {},
   "source": [
    "##### We found best parameters for each classifier, so now let's see how they compare to one another."
   ]
  },
  {
   "cell_type": "code",
   "execution_count": 16,
   "metadata": {},
   "outputs": [],
   "source": [
    "cols=['Classifier', 'Accuracy', 'Log Loss']\n",
    "results = pd.DataFrame(columns=cols)\n",
    "\n",
    "for clf in classifiers:\n",
    "    clf.fit(scaled_X_train, Y_train)\n",
    "    name = clf.__class__.__name__\n",
    "\n",
    "    train_predictions = clf.predict(scaled_X_test)\n",
    "    acc = accuracy_score(Y_test, train_predictions)\n",
    "\n",
    "    train_predictions = clf.predict_proba(scaled_X_test)\n",
    "    ll = log_loss(Y_test, train_predictions)\n",
    "\n",
    "    results_entry = pd.DataFrame([[name, acc*100, ll]], columns=cols)\n",
    "    results = results.append(results_entry)"
   ]
  },
  {
   "cell_type": "markdown",
   "metadata": {},
   "source": [
    "##### Now we can graph the performance of all the models. Below is the Accuracy measure of each classifier and Log Loss."
   ]
  },
  {
   "cell_type": "code",
   "execution_count": 18,
   "metadata": {},
   "outputs": [
    {
     "data": {
      "image/png": "[encoded data removed]",
      "text/plain": [
       "<Figure size 1368x432 with 1 Axes>"
      ]
     },
     "metadata": {
      "needs_background": "light"
     },
     "output_type": "display_data"
    }
   ],
   "source": [
    "plt.subplots(figsize=(19,6))\n",
    "plt.barh(y = results.loc[:, 'Classifier'], width=results.loc[:, 'Accuracy'], color = color_table)\n",
    "for i, v in enumerate(results.loc[:, 'Accuracy']):\n",
    "    plt.text(v+1, i , str(round(v,1)), color=color_table[i], fontweight='bold')\n",
    "plt.xlabel('Accuracy %')\n",
    "plt.title('Classifier Accuracy')\n",
    "plt.show()"
   ]
  },
  {
   "cell_type": "code",
   "execution_count": 19,
   "metadata": {},
   "outputs": [
    {
     "data": {
      "image/png": "[encoded data removed]",
      "text/plain": [
       "<Figure size 1008x432 with 1 Axes>"
      ]
     },
     "metadata": {
      "needs_background": "light"
     },
     "output_type": "display_data"
    }
   ],
   "source": [
    "plt.subplots(figsize=(14,6))\n",
    "plt.barh(y = results.loc[:, 'Classifier'], width=results.loc[:, 'Log Loss'], color = color_table)\n",
    "for i, v in enumerate(results.loc[:, 'Log Loss']):\n",
    "    plt.text(v+0.05,i , str(round(v,3)), color=color_table[i], fontweight='bold')\n",
    "plt.xlabel('Accuracy %')\n",
    "plt.xlabel('Log Loss')\n",
    "plt.title('Classifier Log Loss')\n",
    "plt.show()"
   ]
  },
  {
   "cell_type": "markdown",
   "metadata": {},
   "source": [
    "##### We can see the SVM with RBF kernel achieved the lowest log loss and Random Forest had the highest accuracy, but the two weren't that far from each other. AdaBoost with Decision Tree is also right behind them in both scores.\n",
    "Bayes achieved the worst accuracy score and Decision Tree had very high log loss score.\n",
    "\n",
    "All in all, I think this project was quite interesting. Recognising musical genres is hard even for humans, so to achieve a 94.7% accuracy score in the sample is a success. Besides, I've also managed to learn quite a lot about these classifiers, working in scikit-learn and writing REST scripts.\n",
    "I'm definitely going to continue this project in the future and try to implement a neural network with TensorFlow."
   ]
  }
 ],
 "metadata": {
  "kernelspec": {
   "display_name": "Python 3",
   "language": "python",
   "name": "python3"
  },
  "language_info": {
   "codemirror_mode": {
    "name": "ipython",
    "version": 3
   },
   "file_extension": ".py",
   "mimetype": "text/x-python",
   "name": "python",
   "nbconvert_exporter": "python",
   "pygments_lexer": "ipython3",
   "version": "3.6.7"
  },
  "latex_envs": {
   "LaTeX_envs_menu_present": true,
   "autoclose": false,
   "autocomplete": true,
   "bibliofile": "biblio.bib",
   "cite_by": "apalike",
   "current_citInitial": 1,
   "eqLabelWithNumbers": true,
   "eqNumInitial": 1,
   "hotkeys": {
    "equation": "Ctrl-E",
    "itemize": "Ctrl-I"
   },
   "labels_anchors": false,
   "latex_user_defs": false,
   "report_style_numbering": false,
   "user_envs_cfg": false
  }
 },
 "nbformat": 4,
 "nbformat_minor": 2
}
