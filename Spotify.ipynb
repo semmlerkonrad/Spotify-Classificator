{
 "cells": [
  {
   "cell_type": "markdown",
   "metadata": {},
   "source": [
    "# Spotify Classificator\n",
    "\n",
    "Now that we have our data, we can start testing classifiers. First, let's look at the attributes and representation of the sample."
   ]
  },
  {
   "cell_type": "code",
   "execution_count": 4,
   "metadata": {},
   "outputs": [
    {
     "data": {
      "text/html": [
       "<div>\n",
       "<style scoped>\n",
       "    .dataframe tbody tr th:only-of-type {\n",
       "        vertical-align: middle;\n",
       "    }\n",
       "\n",
       "    .dataframe tbody tr th {\n",
       "        vertical-align: top;\n",
       "    }\n",
       "\n",
       "    .dataframe thead th {\n",
       "        text-align: right;\n",
       "    }\n",
       "</style>\n",
       "<table border=\"1\" class=\"dataframe\">\n",
       "  <thead>\n",
       "    <tr style=\"text-align: right;\">\n",
       "      <th></th>\n",
       "      <th>duration</th>\n",
       "      <th>end Of Fade-In</th>\n",
       "      <th>start Of Fade-Out</th>\n",
       "      <th>loudness</th>\n",
       "      <th>tempo</th>\n",
       "      <th>time Signature</th>\n",
       "      <th>mode</th>\n",
       "      <th>key</th>\n",
       "      <th>acousticness</th>\n",
       "      <th>danceability</th>\n",
       "      <th>energy</th>\n",
       "      <th>instrumentalness</th>\n",
       "      <th>liveness</th>\n",
       "      <th>speechiness</th>\n",
       "      <th>valence</th>\n",
       "      <th>number Of Sections</th>\n",
       "      <th>tatums Per Beats</th>\n",
       "      <th>tatums Deviation</th>\n",
       "      <th>attack Average</th>\n",
       "      <th>attack Deviation</th>\n",
       "    </tr>\n",
       "  </thead>\n",
       "  <tbody>\n",
       "    <tr>\n",
       "      <th>count</th>\n",
       "      <td>51988.000000</td>\n",
       "      <td>51988.000000</td>\n",
       "      <td>51988.000000</td>\n",
       "      <td>51988.000000</td>\n",
       "      <td>51988.000000</td>\n",
       "      <td>51988.000000</td>\n",
       "      <td>51988.000000</td>\n",
       "      <td>51988.000000</td>\n",
       "      <td>51988.000000</td>\n",
       "      <td>51988.000000</td>\n",
       "      <td>51988.000000</td>\n",
       "      <td>51988.000000</td>\n",
       "      <td>51988.000000</td>\n",
       "      <td>51988.000000</td>\n",
       "      <td>51988.000000</td>\n",
       "      <td>51988.000000</td>\n",
       "      <td>51988.000000</td>\n",
       "      <td>51988.000000</td>\n",
       "      <td>51988.000000</td>\n",
       "      <td>51988.000000</td>\n",
       "    </tr>\n",
       "    <tr>\n",
       "      <th>mean</th>\n",
       "      <td>250.458472</td>\n",
       "      <td>0.751528</td>\n",
       "      <td>241.253970</td>\n",
       "      <td>-8.920615</td>\n",
       "      <td>123.279943</td>\n",
       "      <td>3.899573</td>\n",
       "      <td>0.679484</td>\n",
       "      <td>5.352466</td>\n",
       "      <td>0.370510</td>\n",
       "      <td>0.508894</td>\n",
       "      <td>0.611509</td>\n",
       "      <td>0.163121</td>\n",
       "      <td>0.194105</td>\n",
       "      <td>0.059507</td>\n",
       "      <td>0.485415</td>\n",
       "      <td>10.796241</td>\n",
       "      <td>1.999983</td>\n",
       "      <td>0.021017</td>\n",
       "      <td>238.031600</td>\n",
       "      <td>491.681740</td>\n",
       "    </tr>\n",
       "    <tr>\n",
       "      <th>std</th>\n",
       "      <td>99.693518</td>\n",
       "      <td>1.791099</td>\n",
       "      <td>97.871223</td>\n",
       "      <td>5.055896</td>\n",
       "      <td>30.340892</td>\n",
       "      <td>0.412704</td>\n",
       "      <td>0.466680</td>\n",
       "      <td>3.498782</td>\n",
       "      <td>0.347432</td>\n",
       "      <td>0.175215</td>\n",
       "      <td>0.263098</td>\n",
       "      <td>0.311173</td>\n",
       "      <td>0.162901</td>\n",
       "      <td>0.053004</td>\n",
       "      <td>0.270065</td>\n",
       "      <td>4.062912</td>\n",
       "      <td>0.000211</td>\n",
       "      <td>0.035794</td>\n",
       "      <td>115.198804</td>\n",
       "      <td>1048.476679</td>\n",
       "    </tr>\n",
       "    <tr>\n",
       "      <th>min</th>\n",
       "      <td>26.600000</td>\n",
       "      <td>0.000000</td>\n",
       "      <td>26.600000</td>\n",
       "      <td>-44.809000</td>\n",
       "      <td>48.695000</td>\n",
       "      <td>1.000000</td>\n",
       "      <td>0.000000</td>\n",
       "      <td>0.000000</td>\n",
       "      <td>0.000000</td>\n",
       "      <td>0.055500</td>\n",
       "      <td>0.001510</td>\n",
       "      <td>0.000000</td>\n",
       "      <td>0.015800</td>\n",
       "      <td>0.022300</td>\n",
       "      <td>0.006900</td>\n",
       "      <td>2.000000</td>\n",
       "      <td>1.992908</td>\n",
       "      <td>0.000000</td>\n",
       "      <td>-539.876000</td>\n",
       "      <td>38.589000</td>\n",
       "    </tr>\n",
       "    <tr>\n",
       "      <th>25%</th>\n",
       "      <td>193.560000</td>\n",
       "      <td>0.118550</td>\n",
       "      <td>186.154380</td>\n",
       "      <td>-10.985000</td>\n",
       "      <td>99.958000</td>\n",
       "      <td>4.000000</td>\n",
       "      <td>0.000000</td>\n",
       "      <td>2.000000</td>\n",
       "      <td>0.019200</td>\n",
       "      <td>0.407000</td>\n",
       "      <td>0.406000</td>\n",
       "      <td>0.000000</td>\n",
       "      <td>0.098700</td>\n",
       "      <td>0.032900</td>\n",
       "      <td>0.272000</td>\n",
       "      <td>8.000000</td>\n",
       "      <td>2.000000</td>\n",
       "      <td>0.002000</td>\n",
       "      <td>164.864000</td>\n",
       "      <td>203.777000</td>\n",
       "    </tr>\n",
       "    <tr>\n",
       "      <th>50%</th>\n",
       "      <td>235.000000</td>\n",
       "      <td>0.266390</td>\n",
       "      <td>225.593470</td>\n",
       "      <td>-7.869000</td>\n",
       "      <td>121.943000</td>\n",
       "      <td>4.000000</td>\n",
       "      <td>1.000000</td>\n",
       "      <td>5.000000</td>\n",
       "      <td>0.273000</td>\n",
       "      <td>0.530000</td>\n",
       "      <td>0.637000</td>\n",
       "      <td>0.000280</td>\n",
       "      <td>0.128000</td>\n",
       "      <td>0.041700</td>\n",
       "      <td>0.485000</td>\n",
       "      <td>10.000000</td>\n",
       "      <td>2.000000</td>\n",
       "      <td>0.004000</td>\n",
       "      <td>215.835000</td>\n",
       "      <td>289.016000</td>\n",
       "    </tr>\n",
       "    <tr>\n",
       "      <th>75%</th>\n",
       "      <td>280.066670</td>\n",
       "      <td>0.511840</td>\n",
       "      <td>269.397910</td>\n",
       "      <td>-5.472000</td>\n",
       "      <td>143.018000</td>\n",
       "      <td>4.000000</td>\n",
       "      <td>1.000000</td>\n",
       "      <td>9.000000</td>\n",
       "      <td>0.716000</td>\n",
       "      <td>0.632000</td>\n",
       "      <td>0.849000</td>\n",
       "      <td>0.094800</td>\n",
       "      <td>0.241000</td>\n",
       "      <td>0.064100</td>\n",
       "      <td>0.711000</td>\n",
       "      <td>12.000000</td>\n",
       "      <td>2.000000</td>\n",
       "      <td>0.011000</td>\n",
       "      <td>287.235000</td>\n",
       "      <td>434.770000</td>\n",
       "    </tr>\n",
       "    <tr>\n",
       "      <th>max</th>\n",
       "      <td>3650.687710</td>\n",
       "      <td>56.279370</td>\n",
       "      <td>3593.003540</td>\n",
       "      <td>0.698000</td>\n",
       "      <td>217.232000</td>\n",
       "      <td>5.000000</td>\n",
       "      <td>1.000000</td>\n",
       "      <td>11.000000</td>\n",
       "      <td>0.996000</td>\n",
       "      <td>0.955000</td>\n",
       "      <td>1.000000</td>\n",
       "      <td>0.989000</td>\n",
       "      <td>0.994000</td>\n",
       "      <td>0.857000</td>\n",
       "      <td>0.988000</td>\n",
       "      <td>154.000000</td>\n",
       "      <td>2.000000</td>\n",
       "      <td>0.247000</td>\n",
       "      <td>2434.718000</td>\n",
       "      <td>28172.125000</td>\n",
       "    </tr>\n",
       "  </tbody>\n",
       "</table>\n",
       "</div>"
      ],
      "text/plain": [
       "           duration  end Of Fade-In  start Of Fade-Out      loudness  \\\n",
       "count  51988.000000    51988.000000       51988.000000  51988.000000   \n",
       "mean     250.458472        0.751528         241.253970     -8.920615   \n",
       "std       99.693518        1.791099          97.871223      5.055896   \n",
       "min       26.600000        0.000000          26.600000    -44.809000   \n",
       "25%      193.560000        0.118550         186.154380    -10.985000   \n",
       "50%      235.000000        0.266390         225.593470     -7.869000   \n",
       "75%      280.066670        0.511840         269.397910     -5.472000   \n",
       "max     3650.687710       56.279370        3593.003540      0.698000   \n",
       "\n",
       "              tempo  time Signature          mode           key  acousticness  \\\n",
       "count  51988.000000    51988.000000  51988.000000  51988.000000  51988.000000   \n",
       "mean     123.279943        3.899573      0.679484      5.352466      0.370510   \n",
       "std       30.340892        0.412704      0.466680      3.498782      0.347432   \n",
       "min       48.695000        1.000000      0.000000      0.000000      0.000000   \n",
       "25%       99.958000        4.000000      0.000000      2.000000      0.019200   \n",
       "50%      121.943000        4.000000      1.000000      5.000000      0.273000   \n",
       "75%      143.018000        4.000000      1.000000      9.000000      0.716000   \n",
       "max      217.232000        5.000000      1.000000     11.000000      0.996000   \n",
       "\n",
       "       danceability        energy  instrumentalness      liveness  \\\n",
       "count  51988.000000  51988.000000      51988.000000  51988.000000   \n",
       "mean       0.508894      0.611509          0.163121      0.194105   \n",
       "std        0.175215      0.263098          0.311173      0.162901   \n",
       "min        0.055500      0.001510          0.000000      0.015800   \n",
       "25%        0.407000      0.406000          0.000000      0.098700   \n",
       "50%        0.530000      0.637000          0.000280      0.128000   \n",
       "75%        0.632000      0.849000          0.094800      0.241000   \n",
       "max        0.955000      1.000000          0.989000      0.994000   \n",
       "\n",
       "        speechiness       valence  number Of Sections  tatums Per Beats  \\\n",
       "count  51988.000000  51988.000000        51988.000000      51988.000000   \n",
       "mean       0.059507      0.485415           10.796241          1.999983   \n",
       "std        0.053004      0.270065            4.062912          0.000211   \n",
       "min        0.022300      0.006900            2.000000          1.992908   \n",
       "25%        0.032900      0.272000            8.000000          2.000000   \n",
       "50%        0.041700      0.485000           10.000000          2.000000   \n",
       "75%        0.064100      0.711000           12.000000          2.000000   \n",
       "max        0.857000      0.988000          154.000000          2.000000   \n",
       "\n",
       "       tatums Deviation  attack Average  attack Deviation  \n",
       "count      51988.000000    51988.000000      51988.000000  \n",
       "mean           0.021017      238.031600        491.681740  \n",
       "std            0.035794      115.198804       1048.476679  \n",
       "min            0.000000     -539.876000         38.589000  \n",
       "25%            0.002000      164.864000        203.777000  \n",
       "50%            0.004000      215.835000        289.016000  \n",
       "75%            0.011000      287.235000        434.770000  \n",
       "max            0.247000     2434.718000      28172.125000  "
      ]
     },
     "execution_count": 4,
     "metadata": {},
     "output_type": "execute_result"
    }
   ],
   "source": [
    "import pandas as pd\n",
    "import matplotlib.pyplot as plt\n",
    "import numpy as np\n",
    "\n",
    "spotify_data = pd.read_csv('SpotifyData.csv')\n",
    "spotify_data = spotify_data.dropna(axis=0)\n",
    "\n",
    "spotify_data.describe()"
   ]
  },
  {
   "cell_type": "markdown",
   "metadata": {},
   "source": [
    "###### Attributes breakdown\n",
    "We have in total **20 attributes** (excluding 'Genre' label) and **51988 records**. The attributes are:\n",
    "* Duration - The duration of a track in seconds.\n",
    "* End of Fade-in - The second in which the Fade-In stops.\n",
    "* Start of Fade-Out - The second in which the Fade-Out starts.\n",
    "* Loudness - The average track loudness in dB.\n",
    "* Tempo - The tempo of the a track in BPM (beats per minute).\n",
    "* Time Signature - Metre ; The number of beats in a bar.\n",
    "* Mode - Specifies whether a track is in major (value 1) or minor scale (value 0).\n",
    "* Key - The most frequent key in a track. Values in this attribute range from 0 to 11 and represent 12 keys in an octave (e.g. 0=C, 1=C#, 2=D etc.)\n",
    "* Acousticness - This attribute is the result of the audio analysis performed by the Spotify. It predicts how likely a track is acoustic in nature. 1.0 represents high confidence the track is acoustic.\n",
    "* Danceability - Also a value generated by the Spotify. Describes how suitable a track is for dancing. A value of 0.0 is least danceable and 1.0 is most danceable.\n",
    "* Energy - Generated by the Spotify. It represents a perceptual measure of intensity and activity. Typically, energetic tracks feel fast, loud, and noisy. \n",
    "* Instrumentalness - Generated by the Spotify. Predicts whether a track contains no vocals.  The closer the instrumentalness value is to 1.0, the greater likelihood the track contains no vocal content.\n",
    "* Liveness - Generated by the Spotify. Detects the presence of an audience in the recording. Higher liveness values represent an increased probability that the track was performed live.\n",
    "* Speechiness - Generated by the Spotify. Detects the presence of spoken words in a track. The more exclusively speech-like the recording (e.g. talk show, audio book, poetry), the closer to 1.0 the attribute value.\n",
    "* Valence - Generated by the Spotify. A measure from 0.0 to 1.0 describing the musical positiveness conveyed by a track. Tracks with high valence sound more positive (e.g. happy, cheerful, euphoric), while tracks with low valence sound more negative (e.g. sad, depressed, angry).\n",
    "* Number of sections - Specifies how many sections a track consists of. Sections are defined by large variations in rhythm or timbre (e.g. chorus, verse, bridge, guitar solo, etc.).\n",
    "* Tatums per beats - Determines how many tatums are in a beat. A tatum represents the lowest regular pulse train that a listener intuitively infers from the timing of perceived musical events (segments).\n",
    "* Tatums standard deviation - Standard Deviation of the length of all the tatums (in seconds).\n",
    "* Attack average - Average attack, calculated from the attack of each segment. A song is subdivided into many segments, with each one containing a roughly consitent sound throughout its duration.\n",
    "* Attack standard deviation - Standard deviation of the segments attacks.\n",
    "\n",
    "\n",
    "Let's look now at the distribution of the label."
   ]
  },
  {
   "cell_type": "code",
   "execution_count": 5,
   "metadata": {},
   "outputs": [
    {
     "data": {
      "text/plain": [
       "<matplotlib.axes._subplots.AxesSubplot at 0x7fc1a01b0198>"
      ]
     },
     "execution_count": 5,
     "metadata": {},
     "output_type": "execute_result"
    },
    {
     "data": {
      "image/png": "[encoded data removed]",
      "text/plain": [
       "<Figure size 432x288 with 1 Axes>"
      ]
     },
     "metadata": {},
     "output_type": "display_data"
    }
   ],
   "source": [
    "colors=iter(plt.cm.rainbow(np.linspace(0,1,20)))\n",
    "\n",
    "spotify_data['Genre'].value_counts().plot(kind='bar', title='Genre distribution', color=colors)"
   ]
  },
  {
   "cell_type": "markdown",
   "metadata": {},
   "source": [
    "###### Labels\n",
    "In this case, we have **13 genres**, all with almost the same distribution (around 4000 each).\n",
    "Now let's encode the labels, split the data into train and test sets and standarise them."
   ]
  },
  {
   "cell_type": "code",
   "execution_count": 6,
   "metadata": {},
   "outputs": [],
   "source": [
    "from sklearn.preprocessing import LabelEncoder\n",
    "from sklearn.model_selection import train_test_split, GridSearchCV\n",
    "from sklearn.preprocessing import StandardScaler\n",
    "\n",
    "le = LabelEncoder()\n",
    "spotify_data.loc[:, 'Genre'] = le.fit_transform(spotify_data.loc[:, 'Genre'])\n",
    "\n",
    "X, Y = spotify_data.drop('Genre', axis=1).values, spotify_data.loc[:, 'Genre'].values\n",
    "X_train, X_test, Y_train, Y_test = train_test_split(X, Y, test_size=0.2, random_state=8)\n",
    "\n",
    "scaler = StandardScaler()\n",
    "scaled_X_train = scaler.fit_transform(X_train)\n",
    "scaled_X_test = scaler.fit_transform(X_test)"
   ]
  },
  {
   "cell_type": "markdown",
   "metadata": {},
   "source": [
    "Now we can get to comparing classifiers. We'll start with the decision tree and random forest and try to find the best parameters."
   ]
  },
  {
   "cell_type": "code",
   "execution_count": 1,
   "metadata": {},
   "outputs": [],
   "source": [
    "import numpy as np\n",
    "from sklearn.neighbors import KNeighborsClassifier\n",
    "from sklearn.metrics import log_loss, accuracy_score\n",
    "from sklearn.svm import SVC, NuSVC\n",
    "from sklearn.tree import DecisionTreeClassifier\n",
    "from sklearn.ensemble import AdaBoostClassifier, RandomForestClassifier\n",
    "from sklearn.naive_bayes import MultinomialNB, GaussianNB\n",
    "\n",
    "dtc = DecisionTreeClassifier(random_state=8)\n",
    "rfc = RandomForestClassifier(random_state=8)\n",
    "knnc = KNeighborsClassifier(algorithm='auto')\n",
    "svc = SVC(random_state=8, shrinking=True)\n",
    "abcr = AdaBoostClassifier(random_state=8, algorithm='SAMME.R')\n",
    "gnb = GaussianNB()\n",
    "classifiers =[dtc, rfc, knnc, svc, abcr, gnb]"
   ]
  },
  {
   "cell_type": "markdown",
   "metadata": {},
   "source": [
    "Let's start with creating a function to compare parameters and then  we'll specify parameters to lookup in the decision tree. Of course there's a posibility the true optimum will fall outside our range, but these should give us a pretty well performing classifier. "
   ]
  },
  {
   "cell_type": "code",
   "execution_count": 8,
   "metadata": {},
   "outputs": [],
   "source": [
    "def tune_classifier(parameters_dict, clf, create_plot, rows=2, columns=2):\n",
    "    # index is for keeping tack of the subplot's position on the figure matrix\n",
    "    index = 1\n",
    "    best_parameters = {}\n",
    "    for parameter, p_range in parameters_dict.items():\n",
    "        gscv = GridSearchCV(estimator = clf, param_grid = {parameter: p_range}, scoring='accuracy', cv=5, n_jobs = 4)\n",
    "        gscv.fit(scaled_X_train, Y_train)\n",
    "\n",
    "        best_parameters.update(gscv.best_params_)\n",
    "        means = gscv.cv_results_['mean_test_score']\n",
    "        if create_plot:\n",
    "            plt.subplot(rows, columns, index)\n",
    "            plt.xlabel('parameter value')\n",
    "            plt.ylabel('accuracy')\n",
    "            plt.plot(p_range, means)\n",
    "            plt.title(parameter)\n",
    "            index += 1\n",
    "        else:\n",
    "            print(\"best params: {}\".format(gscv.best_params_))\n",
    "\n",
    "    return best_parameters"
   ]
  },
  {
   "cell_type": "code",
   "execution_count": 9,
   "metadata": {},
   "outputs": [
    {
     "data": {
      "image/png": "[encoded data removed]",
      "text/plain": [
       "<Figure size 432x288 with 4 Axes>"
      ]
     },
     "metadata": {},
     "output_type": "display_data"
    }
   ],
   "source": [
    "dt_parameters = {\n",
    "    'max_depth' : list(np.arange(2,50,3)) + [None],\n",
    "    \"min_samples_split\": np.arange(2,100,3),\n",
    "    \"min_samples_leaf\": np.arange(1,60,3),\n",
    "    \"max_leaf_nodes\": list(np.arange(100,3000,100)) + [None]\n",
    "    }\n",
    "best_parameters_dt = tune_classifier(dt_parameters, dtc, True)\n",
    "dtc.set_params(**best_parameters_dt)\n",
    "plt.tight_layout()\n",
    "plt.show()\n"
   ]
  },
  {
   "cell_type": "markdown",
   "metadata": {},
   "source": [
    "Great, now that we found our optimal parameters for DT, let's see how it'll look on other classifiers."
   ]
  },
  {
   "cell_type": "code",
   "execution_count": 10,
   "metadata": {},
   "outputs": [
    {
     "data": {
      "image/png": "[encoded data removed]",
      "text/plain": [
       "<Figure size 432x288 with 1 Axes>"
      ]
     },
     "metadata": {},
     "output_type": "display_data"
    }
   ],
   "source": [
    "rf_parameters = {\n",
    "    'n_estimators' : np.arange(10, 200, 10)\n",
    "    }\n",
    "best_parameters_rf = tune_classifier(rf_parameters, rfc, True, 1, 2)\n",
    "best_parameters_rf.update(best_parameters_dt)\n",
    "rfc.set_params(**best_parameters_rf)\n",
    "\n",
    "plt.show()"
   ]
  },
  {
   "cell_type": "code",
   "execution_count": 11,
   "metadata": {},
   "outputs": [
    {
     "name": "stdout",
     "output_type": "stream",
     "text": [
      "best params: {'n_neighbors': 2}\n",
      "best params: {'leaf_size': 30}\n",
      "best params: {'p': 1}\n"
     ]
    },
    {
     "data": {
      "text/plain": [
       "KNeighborsClassifier(algorithm='auto', leaf_size=30, metric='minkowski',\n",
       "           metric_params=None, n_jobs=None, n_neighbors=2, p=1,\n",
       "           weights='uniform')"
      ]
     },
     "execution_count": 11,
     "metadata": {},
     "output_type": "execute_result"
    }
   ],
   "source": [
    "knn_parameters = {\n",
    "    'n_neighbors': np.arange(2,15,2),\n",
    "    'leaf_size' : np.arange(10,150, 20), \n",
    "    'p' : np.arange(1,3,1),\n",
    "    }\n",
    "best_parameters_knn = tune_classifier(knn_parameters, knnc, False)\n",
    "knnc.set_params(**best_parameters_knn)"
   ]
  },
  {
   "cell_type": "code",
   "execution_count": 12,
   "metadata": {},
   "outputs": [
    {
     "name": "stdout",
     "output_type": "stream",
     "text": [
      "best params: {'gamma': 1}\n",
      "best params: {'kernel': 'rbf'}\n",
      "best params: {'C': 1000}\n",
      "best params: {'degree': 1}\n"
     ]
    },
    {
     "data": {
      "text/plain": [
       "SVC(C=1000, cache_size=200, class_weight=None, coef0=0.0,\n",
       "  decision_function_shape='ovr', degree=1, gamma=1, kernel='rbf',\n",
       "  max_iter=-1, probability=False, random_state=8, shrinking=True,\n",
       "  tol=0.001, verbose=False)"
      ]
     },
     "execution_count": 12,
     "metadata": {},
     "output_type": "execute_result"
    }
   ],
   "source": [
    "svc_parameters = {\n",
    "    'C' : [1, 100, 1000],\n",
    "    'kernel' : ['rbf', 'sigmoid','linear'],\n",
    "    'degree' : [1,2,3],\n",
    "    'gamma' : [0.01, 0.1 ,1, 'auto']\n",
    "    }\n",
    "best_parameters_svc = tune_classifier(svc_parameters, svc, False)\n",
    "svc.set_params(**best_parameters_svc)"
   ]
  },
  {
   "cell_type": "code",
   "execution_count": null,
   "metadata": {},
   "outputs": [],
   "source": [
    "abcr_parameters = {\n",
    "    'base_estimator' : [None, dtc, rfc],\n",
    "    'n_estimators' : np.arange(2,100,2),\n",
    "    'learning_rate' : [0.001, 0.01, 0.1, 1, 10]\n",
    "    }\n",
    "best_parameters_abcr = tune_classifier(abcr_parameters, abcr, False)\n",
    "abcr.set_params(**best_parameters_abcr)"
   ]
  },
  {
   "cell_type": "code",
   "execution_count": null,
   "metadata": {},
   "outputs": [],
   "source": [
    "\n",
    "cols=['Classifier', 'Accuracy', 'Log Loss']\n",
    "results = pd.DataFrame(columns=cols)\n",
    "\n",
    "for clf in classifiers:\n",
    "    clf.fit(scaled_X_train, Y_train)\n",
    "    name = clf.__class__.__name__\n",
    "\n",
    "    train_predictions = clf.predict(scaled_X_test)\n",
    "    acc = accuracy_score(Y_test, train_predictions)\n",
    "\n",
    "    train_predictions = clf.predict_proba(scaled_X_test)\n",
    "    ll = log_loss(Y_test, train_predictions)\n",
    "\n",
    "    results_entry = pd.DataFrame([[name, acc*100, ll]], columns=cols)\n",
    "    results = results.append(results_entry)"
   ]
  },
  {
   "cell_type": "markdown",
   "metadata": {},
   "source": [
    "Now we can graph the performance of all the models. Below is the Accuracy measure of each classifier and Log Loss."
   ]
  },
  {
   "cell_type": "code",
   "execution_count": null,
   "metadata": {},
   "outputs": [],
   "source": [
    "color_table = ['g', 'r','b','y','c','m']\n",
    "plt.barh(y = results.loc[:, 'Classifier'], width=results.loc[:, 'Accuracy'], color = ['g', 'r','b','y','c','m'])\n",
    "for i, v in enumerate(results.loc[:, 'Classifier']):\n",
    "    plt.text(v + 3, i + .25, str(v), color=color_table[i], fontweight='bold')\n",
    "plt.xlabel('Accuracy %')\n",
    "plt.title('Classifier Accuracy')\n",
    "plt.show()"
   ]
  },
  {
   "cell_type": "code",
   "execution_count": null,
   "metadata": {},
   "outputs": [],
   "source": [
    "plt.barh(y = results.loc[:, 'Classifier'], width=results.loc[:, 'Log Loss'], color = ['g', 'r','b','y','c','m'])\n",
    "\n",
    "plt.xlabel('Log Loss')\n",
    "plt.title('Classifier Log Loss')\n",
    "plt.show()"
   ]
  }
 ],
 "metadata": {
  "kernelspec": {
   "display_name": "Python 3",
   "language": "python",
   "name": "python3"
  },
  "language_info": {
   "codemirror_mode": {
    "name": "ipython",
    "version": 3
   },
   "file_extension": ".py",
   "mimetype": "text/x-python",
   "name": "python",
   "nbconvert_exporter": "python",
   "pygments_lexer": "ipython3",
   "version": "3.5.3"
  },
  "latex_envs": {
   "LaTeX_envs_menu_present": true,
   "autoclose": false,
   "autocomplete": true,
   "bibliofile": "biblio.bib",
   "cite_by": "apalike",
   "current_citInitial": 1,
   "eqLabelWithNumbers": true,
   "eqNumInitial": 1,
   "hotkeys": {
    "equation": "Ctrl-E",
    "itemize": "Ctrl-I"
   },
   "labels_anchors": false,
   "latex_user_defs": false,
   "report_style_numbering": false,
   "user_envs_cfg": false
  }
 },
 "nbformat": 4,
 "nbformat_minor": 2
}
